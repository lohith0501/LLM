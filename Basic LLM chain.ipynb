{
 "cells": [
  {
   "cell_type": "markdown",
   "id": "0181c9dc",
   "metadata": {},
   "source": [
    "# Import libraries"
   ]
  },
  {
   "cell_type": "code",
   "execution_count": 66,
   "id": "dbe030a5",
   "metadata": {},
   "outputs": [],
   "source": [
    "from langchain.llms import OpenAI\n",
    "from langchain.prompts import PromptTemplate\n",
    "from langchain.chains import LLMChain,SequentialChain\n",
    "from dotenv import load_dotenv"
   ]
  },
  {
   "cell_type": "markdown",
   "id": "fd34e10f",
   "metadata": {},
   "source": [
    "# Load API key"
   ]
  },
  {
   "cell_type": "code",
   "execution_count": 67,
   "id": "02aadeaf",
   "metadata": {},
   "outputs": [
    {
     "data": {
      "text/plain": [
       "True"
      ]
     },
     "execution_count": 67,
     "metadata": {},
     "output_type": "execute_result"
    }
   ],
   "source": [
    "load_dotenv()"
   ]
  },
  {
   "cell_type": "markdown",
   "id": "a8ada982",
   "metadata": {},
   "source": [
    "# Initialize an LLM"
   ]
  },
  {
   "cell_type": "code",
   "execution_count": 68,
   "id": "1a55a4b8",
   "metadata": {},
   "outputs": [],
   "source": [
    "llm=OpenAI()"
   ]
  },
  {
   "cell_type": "markdown",
   "id": "ff853b4e",
   "metadata": {},
   "source": [
    "# Create a prompt template"
   ]
  },
  {
   "cell_type": "code",
   "execution_count": 69,
   "id": "d8a156c2",
   "metadata": {},
   "outputs": [],
   "source": [
    "code_prompt=PromptTemplate(\n",
    "    template=\"Write a function for {task} using {language}\",\n",
    "    input_variables=[\"task\",\"language\"]\n",
    ")"
   ]
  },
  {
   "cell_type": "code",
   "execution_count": 70,
   "id": "a0bedc6a",
   "metadata": {},
   "outputs": [],
   "source": [
    "test_prompt=PromptTemplate(\n",
    "    template=\"write a test case in {language} for {code}\",\n",
    "    input_variables=[\"code\",\"language\"]\n",
    ")"
   ]
  },
  {
   "cell_type": "markdown",
   "id": "6d62c176",
   "metadata": {},
   "source": [
    "# Create an LLM chain"
   ]
  },
  {
   "cell_type": "code",
   "execution_count": 71,
   "id": "efe23ed1",
   "metadata": {},
   "outputs": [],
   "source": [
    "code_chain=LLMChain(\n",
    "    llm=llm,\n",
    "    prompt=code_prompt,\n",
    "    output_key=\"code\"\n",
    ")"
   ]
  },
  {
   "cell_type": "code",
   "execution_count": 72,
   "id": "c4b955c0",
   "metadata": {},
   "outputs": [],
   "source": [
    "test_chain=LLMChain(\n",
    "    llm=llm,\n",
    "    prompt=test_prompt,\n",
    "    output_key=\"test\"\n",
    "                   )"
   ]
  },
  {
   "cell_type": "markdown",
   "id": "c0a5d1e3",
   "metadata": {},
   "source": [
    "# Create sequential chain"
   ]
  },
  {
   "cell_type": "code",
   "execution_count": 73,
   "id": "e1cfd548",
   "metadata": {},
   "outputs": [],
   "source": [
    "chain=SequentialChain(\n",
    "    chains=[code_chain,test_chain],\n",
    "    input_variables=[\"task\",\"language\"],\n",
    "    output_variables=[\"test\",\"code\"]\n",
    ")"
   ]
  },
  {
   "cell_type": "markdown",
   "id": "85913afa",
   "metadata": {},
   "source": [
    "# Run LLM"
   ]
  },
  {
   "cell_type": "code",
   "execution_count": 74,
   "id": "973e56d4",
   "metadata": {},
   "outputs": [],
   "source": [
    "result=chain({\n",
    "    \"language\":\"python\",\n",
    "    \"task\":\"Write a very small code to add two numbers\"\n",
    "                   }\n",
    ")"
   ]
  },
  {
   "cell_type": "code",
   "execution_count": 75,
   "id": "23379de2",
   "metadata": {},
   "outputs": [
    {
     "name": "stdout",
     "output_type": "stream",
     "text": [
      ">>>> GENERATED CODE\n",
      "\n",
      "\n",
      "def add_two_numbers(num1, num2):\n",
      "  return num1 + num2\n",
      "\n",
      "sum = add_two_numbers(3, 4)\n",
      "print(sum) # Output: 7\n",
      ">>>> GENERATED TEST\n",
      "\n",
      "\n",
      "import unittest\n",
      "\n",
      "class TestAddTwoNumbers(unittest.TestCase):\n",
      "    def test_add_two_numbers(self):\n",
      "        result = add_two_numbers(3, 4)\n",
      "        self.assertEqual(result, 7)\n",
      "\n",
      "if __name__ == '__main__':\n",
      "    unittest.main()\n"
     ]
    }
   ],
   "source": [
    "print(\">>>> GENERATED CODE\")\n",
    "print(result[\"code\"])\n",
    "print(\">>>> GENERATED TEST\")\n",
    "print(result[\"test\"])"
   ]
  },
  {
   "cell_type": "code",
   "execution_count": null,
   "id": "2bc02239",
   "metadata": {},
   "outputs": [],
   "source": []
  },
  {
   "cell_type": "code",
   "execution_count": null,
   "id": "b3799492",
   "metadata": {},
   "outputs": [],
   "source": []
  }
 ],
 "metadata": {
  "kernelspec": {
   "display_name": "Python 3 (ipykernel)",
   "language": "python",
   "name": "python3"
  },
  "language_info": {
   "codemirror_mode": {
    "name": "ipython",
    "version": 3
   },
   "file_extension": ".py",
   "mimetype": "text/x-python",
   "name": "python",
   "nbconvert_exporter": "python",
   "pygments_lexer": "ipython3",
   "version": "3.11.5"
  }
 },
 "nbformat": 4,
 "nbformat_minor": 5
}
